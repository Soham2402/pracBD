{
 "cells": [
  {
   "cell_type": "code",
   "execution_count": 1,
   "id": "f7906757",
   "metadata": {},
   "outputs": [
    {
     "name": "stderr",
     "output_type": "stream",
     "text": [
      "Setting default log level to \"WARN\".\n",
      "To adjust logging level use sc.setLogLevel(newLevel). For SparkR, use setLogLevel(newLevel).\n",
      "23/11/03 10:59:08 WARN NativeCodeLoader: Unable to load native-hadoop library for your platform... using builtin-java classes where applicable\n"
     ]
    }
   ],
   "source": [
    "from pyspark.sql import SparkSession\n",
    "\n",
    "spark = SparkSession.builder.appName(\"Builder\").getOrCreate()"
   ]
  },
  {
   "cell_type": "code",
   "execution_count": 28,
   "id": "67406d7f",
   "metadata": {},
   "outputs": [],
   "source": [
    "data = [\n",
    "    {\"Company\":\"Tatti\", \"Revenue\":10000},\n",
    "    {\"Company\":\"Tatti1\", \"Revenue\":240000},\n",
    "    {\"Company\":\"Tatti2\", \"Revenue\":530000},\n",
    "    {\"Company\":\"Tatti3\", \"Revenue\":604000},\n",
    "    {\"Company\":\"Tatti4\", \"Revenue\":700400},\n",
    "    {\"Company\":\"Tatti\", \"Revenue\":300006},\n",
    "    {\"Company\":\"Tatti1\", \"Revenue\":40007},\n",
    "    {\"Company\":\"Tatti2\", \"Revenue\":50003},\n",
    "    {\"Company\":\"Tatti3\", \"Revenue\":600090},\n",
    "    {\"Company\":\"Tatti4\", \"Revenue\":700001},\n",
    "    {\"Company\":\"Tatti\", \"Revenue\":30000},\n",
    "    {\"Company\":\"Tatti1\", \"Revenue\":40000},\n",
    "    {\"Company\":\"Tatti2\", \"Revenue\":50000},\n",
    "    {\"Company\":\"Tatti3\", \"Revenue\":60000},\n",
    "    {\"Company\":\"Tatti4\", \"Revenue\":70000},\n",
    "    \n",
    "]"
   ]
  },
  {
   "cell_type": "code",
   "execution_count": 37,
   "id": "4145ffc4",
   "metadata": {},
   "outputs": [
    {
     "name": "stdout",
     "output_type": "stream",
     "text": [
      "+-------+-------+\n",
      "|Company|Revenue|\n",
      "+-------+-------+\n",
      "|  Tatti|  10000|\n",
      "| Tatti1| 240000|\n",
      "| Tatti2| 530000|\n",
      "| Tatti3| 604000|\n",
      "| Tatti4| 700400|\n",
      "|  Tatti| 300006|\n",
      "| Tatti1|  40007|\n",
      "| Tatti2|  50003|\n",
      "| Tatti3| 600090|\n",
      "| Tatti4| 700001|\n",
      "|  Tatti|  30000|\n",
      "| Tatti1|  40000|\n",
      "| Tatti2|  50000|\n",
      "| Tatti3|  60000|\n",
      "| Tatti4|  70000|\n",
      "+-------+-------+\n",
      "\n"
     ]
    },
    {
     "name": "stderr",
     "output_type": "stream",
     "text": [
      "[Stage 61:==============>                                           (2 + 6) / 8]\r"
     ]
    },
    {
     "name": "stdout",
     "output_type": "stream",
     "text": [
      "+-------+-------+-----------------+\n",
      "|summary|Company|          Revenue|\n",
      "+-------+-------+-----------------+\n",
      "|  count|     15|               15|\n",
      "|   mean|   NULL|268300.4666666667|\n",
      "| stddev|   NULL|276704.1899099022|\n",
      "|    min|  Tatti|            10000|\n",
      "|    max| Tatti4|           700400|\n",
      "+-------+-------+-----------------+\n",
      "\n"
     ]
    },
    {
     "name": "stderr",
     "output_type": "stream",
     "text": [
      "\r",
      "                                                                                \r"
     ]
    }
   ],
   "source": [
    "df = spark.createDataFrame(data)\n",
    "df.show()\n",
    "df.describe().show()"
   ]
  },
  {
   "cell_type": "code",
   "execution_count": 30,
   "id": "16a10372",
   "metadata": {},
   "outputs": [
    {
     "name": "stdout",
     "output_type": "stream",
     "text": [
      "+-------+-------+\n",
      "|Company|Revenue|\n",
      "+-------+-------+\n",
      "|  Tatti|  10000|\n",
      "|  Tatti| 300006|\n",
      "|  Tatti|  30000|\n",
      "+-------+-------+\n",
      "\n"
     ]
    }
   ],
   "source": [
    "df.filter(df[\"company\"] == \"Tatti\").show()"
   ]
  },
  {
   "cell_type": "code",
   "execution_count": 31,
   "id": "191c1696",
   "metadata": {},
   "outputs": [
    {
     "name": "stdout",
     "output_type": "stream",
     "text": [
      "+-------+-------+\n",
      "|Company|Revenue|\n",
      "+-------+-------+\n",
      "|  Tatti|  10000|\n",
      "|  Tatti|  30000|\n",
      "+-------+-------+\n",
      "\n"
     ]
    }
   ],
   "source": [
    "df.filter(df[\"Revenue\"] < 40000).show()"
   ]
  },
  {
   "cell_type": "code",
   "execution_count": 36,
   "id": "c029ddf0",
   "metadata": {},
   "outputs": [
    {
     "name": "stdout",
     "output_type": "stream",
     "text": [
      "+-------+---------------+\n",
      "|Company|median(Revenue)|\n",
      "+-------+---------------+\n",
      "|  Tatti|        30000.0|\n",
      "| Tatti1|        40007.0|\n",
      "| Tatti2|        50003.0|\n",
      "| Tatti4|       700001.0|\n",
      "| Tatti3|       600090.0|\n",
      "+-------+---------------+\n",
      "\n"
     ]
    }
   ],
   "source": [
    "df.groupBy(df[\"Company\"]).agg({\"Revenue\":\"median\"}).show()"
   ]
  },
  {
   "cell_type": "code",
   "execution_count": 38,
   "id": "eec77692",
   "metadata": {},
   "outputs": [],
   "source": [
    "df.createOrReplaceTempView(\"table1\")"
   ]
  },
  {
   "cell_type": "code",
   "execution_count": 41,
   "id": "4ceb5f86",
   "metadata": {},
   "outputs": [],
   "source": [
    "results = spark.sql(\"SELECT * FROM table1 WHERE Revenue > 240000\")"
   ]
  },
  {
   "cell_type": "code",
   "execution_count": 42,
   "id": "ee00caf8",
   "metadata": {},
   "outputs": [
    {
     "name": "stdout",
     "output_type": "stream",
     "text": [
      "+-------+-------+\n",
      "|Company|Revenue|\n",
      "+-------+-------+\n",
      "| Tatti2| 530000|\n",
      "| Tatti3| 604000|\n",
      "| Tatti4| 700400|\n",
      "|  Tatti| 300006|\n",
      "| Tatti3| 600090|\n",
      "| Tatti4| 700001|\n",
      "+-------+-------+\n",
      "\n"
     ]
    }
   ],
   "source": [
    "results.show()"
   ]
  },
  {
   "cell_type": "code",
   "execution_count": 43,
   "id": "41e728cb",
   "metadata": {},
   "outputs": [],
   "source": [
    "spark.stop()"
   ]
  }
 ],
 "metadata": {
  "kernelspec": {
   "display_name": "Python 3 (ipykernel)",
   "language": "python",
   "name": "python3"
  },
  "language_info": {
   "codemirror_mode": {
    "name": "ipython",
    "version": 3
   },
   "file_extension": ".py",
   "mimetype": "text/x-python",
   "name": "python",
   "nbconvert_exporter": "python",
   "pygments_lexer": "ipython3",
   "version": "3.10.12"
  }
 },
 "nbformat": 4,
 "nbformat_minor": 5
}
